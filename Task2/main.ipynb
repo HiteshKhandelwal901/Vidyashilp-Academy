{
 "cells": [
  {
   "cell_type": "markdown",
   "id": "56ae028f-26db-4096-91c1-1b7c5136c71d",
   "metadata": {},
   "source": [
    "# Amazon Product Reviews to Ratings Sentiment Analysis\n",
    "\n",
    "This notebook contains code for snetiment analysis of Amazon product reviews. We are trying to map review text to review ratings. \n",
    "\n",
    "#### 1: **Data Preprocessing**\n",
    "    1.1: Data Loading\n",
    "    1.2: Data Cleaning\n",
    "    \n",
    "#### 2: **Different Model training and testing and visualisations**\n",
    "    2.1: train and test data \n",
    "    2.2: Count_Vectorizer and MLP classifier\n",
    "    2.3: Word2vec and MLP classifer\n",
    "    2.4: Gated-recurrent-network model and deault embedding\n",
    "    2.5: Tensorflow and word2vec embeddings\n",
    "    2.6: LSTM\n",
    "\n",
    "\n",
    "\n",
    "\n"
   ]
  },
  {
   "cell_type": "code",
   "execution_count": 104,
   "id": "637d8ebd-8e68-47ae-bee7-873f578d704b",
   "metadata": {},
   "outputs": [
    {
     "data": {
      "text/plain": [
       "'/home/honey/Desktop/Vidyashilp-Assignment/Task2'"
      ]
     },
     "execution_count": 104,
     "metadata": {},
     "output_type": "execute_result"
    }
   ],
   "source": [
    "pwd"
   ]
  },
  {
   "cell_type": "code",
   "execution_count": null,
   "id": "44a428f8-6723-4782-9788-653f4b317173",
   "metadata": {},
   "outputs": [],
   "source": []
  },
  {
   "cell_type": "markdown",
   "id": "a8d8966d-af11-484e-8ebb-342258257c86",
   "metadata": {},
   "source": [
    "### 1. **Data Preprocessing**"
   ]
  },
  {
   "cell_type": "markdown",
   "id": "1e647192-83de-4f0f-bef5-ec4c56178723",
   "metadata": {},
   "source": [
    "##### 1.1 **Data Loading**"
   ]
  },
  {
   "cell_type": "code",
   "execution_count": 105,
   "id": "67c04270-5c7c-4fa5-a9a7-9006929e0d3e",
   "metadata": {},
   "outputs": [],
   "source": [
    "#making all the required imports here\n",
    "import pandas as pd\n",
    "import numpy as np\n",
    "import nltk\n",
    "from nltk.corpus import stopwords\n",
    "from nltk.stem import WordNetLemmatizer\n",
    "from sklearn.metrics import classification_report,confusion_matrix\n",
    "import string as st\n",
    "from sklearn.model_selection import train_test_split\n",
    "from gensim.models import Word2Vec\n",
    "from sklearn.feature_extraction.text import TfidfVectorizer\n",
    "from sklearn.feature_extraction.text import CountVectorizer\n",
    "from sklearn.neural_network import MLPClassifier\n",
    "import seaborn as sns\n",
    "from sklearn.metrics import classification_report\n",
    "from tensorflow.python.keras.preprocessing.text import Tokenizer\n",
    "from tensorflow.python.keras.preprocessing.sequence import pad_sequences\n",
    "from keras.models import Sequential\n",
    "from keras.layers import Dense, Embedding, LSTM, GRU\n",
    "from keras.layers.embeddings import Embedding\n",
    "from keras.initializers import Constant\n",
    "\n",
    "import tensorflow as tf\n",
    "\n",
    "\n",
    "import matplotlib.pyplot as plt \n",
    "\n",
    "\n",
    "\n",
    "%matplotlib inline\n",
    "\n"
   ]
  },
  {
   "cell_type": "code",
   "execution_count": 106,
   "id": "3979ad3b-dcb9-4656-b23a-a7b6e451fe03",
   "metadata": {},
   "outputs": [
    {
     "name": "stdout",
     "output_type": "stream",
     "text": [
      "reviews shape =  (5000,)\n",
      "ratings shape =  (5000,)\n"
     ]
    }
   ],
   "source": [
    "#Loading the data into dataframe using pandas\n",
    "df = pd.read_csv('Data/Datafiniti_Amazon_Consumer_Reviews_of_Amazon_Products.csv')\n",
    "reviews = df['reviews.text']\n",
    "ratings = df['reviews.rating']\n",
    "\n",
    "print(\"reviews shape = \", reviews.shape)\n",
    "print(\"ratings shape = \", ratings.shape)\n"
   ]
  },
  {
   "cell_type": "code",
   "execution_count": 107,
   "id": "436bc829-5cd8-4c3c-977d-a6dcce59a08f",
   "metadata": {},
   "outputs": [
    {
     "data": {
      "text/plain": [
       "<AxesSubplot:>"
      ]
     },
     "execution_count": 107,
     "metadata": {},
     "output_type": "execute_result"
    },
    {
     "data": {
      "image/png": "[encoded data removed]",
      "text/plain": [
       "<Figure size 432x288 with 1 Axes>"
      ]
     },
     "metadata": {
      "needs_background": "light"
     },
     "output_type": "display_data"
    }
   ],
   "source": [
    "#class imbalance detection\n",
    "df['reviews.rating'].value_counts().plot(kind=\"bar\", rot=0)"
   ]
  },
  {
   "cell_type": "markdown",
   "id": "5e0ed199-785d-4cd3-8358-a45369621720",
   "metadata": {},
   "source": [
    "##### 1.2 : **Data Cleaning**"
   ]
  },
  {
   "cell_type": "code",
   "execution_count": 108,
   "id": "3d80f02d-5e21-446a-82d8-7a9fb9bf15e8",
   "metadata": {},
   "outputs": [
    {
     "name": "stdout",
     "output_type": "stream",
     "text": [
      "Reviews length after cleaning =  (5000,)\n",
      "sample :  0    I thought would big small paper turn like palm...\n",
      "1          This kindle light easy use especially beach\n",
      "Name: reviews.text, dtype: object\n"
     ]
    }
   ],
   "source": [
    "#function to remove punctuations\n",
    "def remove_punc(text):\n",
    "    words = [w for w in text if w not in st.punctuation]\n",
    "    return ''.join(words)\n",
    "\n",
    "#function to remove stopwords\n",
    "def remove_stopword(text):\n",
    "    stopword=nltk.corpus.stopwords.words('english')\n",
    "    stopword.remove('not')\n",
    "    words=[w for w in nltk.word_tokenize(text) if w not in stopword]\n",
    "    return ' '.join(words)\n",
    "#function to lematize the words\n",
    "def lematize(text):\n",
    "    lemmatizer = WordNetLemmatizer()\n",
    "    words = [lemmatizer.lemmatize(w) for w in text]\n",
    "    return words\n",
    "    \n",
    "\n",
    "reviews = reviews.apply(remove_punc)\n",
    "reviews = reviews.apply(remove_stopword)\n",
    "#reviews = reviews.apply(lematize)\n",
    "\n",
    "print(\"Reviews length after cleaning = \", reviews.shape)\n",
    "print(\"sample : \", reviews[0:2])\n",
    "\n",
    "\n",
    "\n",
    "\n",
    "\n"
   ]
  },
  {
   "cell_type": "code",
   "execution_count": null,
   "id": "7d14377a-fef9-4143-b08d-c7764c161236",
   "metadata": {},
   "outputs": [],
   "source": []
  },
  {
   "cell_type": "markdown",
   "id": "1d244817-0f03-4ebb-8f1a-aa5f49491dbb",
   "metadata": {},
   "source": [
    "#### **2 Different Model Testing and Training**"
   ]
  },
  {
   "cell_type": "markdown",
   "id": "924f0dac-69ed-4daa-9d9b-fc897510a996",
   "metadata": {},
   "source": [
    "##### **2.1: Train and Test data**"
   ]
  },
  {
   "cell_type": "code",
   "execution_count": 126,
   "id": "7942c7cf-1e23-433d-98a2-ed68a0ad1ca9",
   "metadata": {},
   "outputs": [
    {
     "name": "stdout",
     "output_type": "stream",
     "text": [
      "X_train shape =  (3750,)\n",
      "X_test shape =  (1250,)\n",
      "Y_train shape =  (3750,)\n",
      "Y_test shape =  (1250,)\n"
     ]
    }
   ],
   "source": [
    "X_train, X_test, y_train, y_test = train_test_split(reviews, ratings, test_size=0.25 )\n",
    "print(\"X_train shape = \", X_train.shape)\n",
    "print(\"X_test shape = \", X_test.shape)\n",
    "print(\"Y_train shape = \", y_train.shape)\n",
    "print(\"Y_test shape = \", y_test.shape)"
   ]
  },
  {
   "cell_type": "markdown",
   "id": "565ef2aa-ce29-41c1-b1db-4e0b51ead1be",
   "metadata": {},
   "source": [
    "##### **2.2: Count_Vectorizer, TF-id and MLP classifier**"
   ]
  },
  {
   "cell_type": "code",
   "execution_count": 110,
   "id": "974365e0-b031-498b-8152-71fac93588a9",
   "metadata": {},
   "outputs": [
    {
     "name": "stdout",
     "output_type": "stream",
     "text": [
      "count vectr train shape =  (3750, 36762)\n",
      "count vectr test shape =  (1250, 36762)\n",
      "y train shape =  (3750,)\n",
      "y test shape =  (1250,)\n",
      "tfid vectr train shape =  (3750, 42033)\n",
      "tfid vectr test shape =  (1250, 42033)\n"
     ]
    }
   ],
   "source": [
    "#Count vectorizer to get vectors of reviews based on counts/freq/bag-of-words\n",
    "Count_vectr = CountVectorizer(ngram_range=(2,2),min_df=1)\n",
    "Count_vectr.fit(X_train)\n",
    "Count_vectr_xtrain = Count_vectr.transform(X_train)\n",
    "Count_vectr_x_test = Count_vectr.transform(X_test)\n",
    "print(\"count vectr train shape = \",Count_vectr_xtrain.shape )\n",
    "print(\"count vectr test shape = \",Count_vectr_x_test.shape )\n",
    "print(\"y train shape = \",y_train.shape )\n",
    "print(\"y test shape = \",y_test.shape )\n",
    "\n",
    "#Tf-id vectorizer to get numerical representtion of reviews based on TF-id algorithm\n",
    "tf_id_vectr = TfidfVectorizer(ngram_range=(1,2),min_df=1)\n",
    "tf_id_vectr.fit(X_train)\n",
    "tf_id_vect_X_train = tf_id_vectr.transform(X_train)\n",
    "tf_id_vect_X_test = tf_id_vectr.transform(X_test)\n",
    "print(\"tfid vectr train shape = \",tf_id_vect_X_train.shape )\n",
    "print(\"tfid vectr test shape = \",tf_id_vect_X_test.shape )"
   ]
  },
  {
   "cell_type": "code",
   "execution_count": 111,
   "id": "afdfe57a-7e3c-4fec-b6c6-88e868c850f2",
   "metadata": {},
   "outputs": [
    {
     "name": "stdout",
     "output_type": "stream",
     "text": [
      "confusion matrix for architecture 1 with count vectorizer\n"
     ]
    },
    {
     "data": {
      "image/png": "[encoded data removed]",
      "text/plain": [
       "<Figure size 432x288 with 2 Axes>"
      ]
     },
     "metadata": {
      "needs_background": "light"
     },
     "output_type": "display_data"
    },
    {
     "name": "stdout",
     "output_type": "stream",
     "text": [
      "classification report = \n",
      "              precision    recall  f1-score   support\n",
      "\n",
      "           1       1.00      0.22      0.36        18\n",
      "           2       1.00      0.13      0.24        15\n",
      "           3       1.00      0.21      0.34        58\n",
      "           4       0.45      0.43      0.44       288\n",
      "           5       0.79      0.87      0.83       871\n",
      "\n",
      "    accuracy                           0.72      1250\n",
      "   macro avg       0.85      0.37      0.44      1250\n",
      "weighted avg       0.73      0.72      0.70      1250\n",
      "\n"
     ]
    }
   ],
   "source": [
    "#MLP model with three hidden layer and 8 neurins each\n",
    "count_vectr_mlp = MLPClassifier(hidden_layer_sizes=(8,8,8), activation='relu', solver='adam', max_iter=20000, alpha = 0.001)\n",
    "count_vectr_mlp.fit(Count_vectr_xtrain,y_train)\n",
    "score = count_vectr_mlp.score(Count_vectr_x_test, y_test)*100\n",
    "y_predicted = count_vectr_mlp.predict(Count_vectr_x_test)\n",
    "cf_matrix = confusion_matrix(y_test, y_predicted)\n",
    "print(\"MLP architecture 1 with count vectorizer score = \",score )\n",
    "\n",
    "#plot the confusion matrix\n",
    "print(\"confusion matrix for architecture 1 with count vectorizer\")\n",
    "ax = sns.heatmap(cf_matrix, annot=True)\n",
    "ax.set_xlabel('\\nPredicted Values')\n",
    "ax.set_ylabel('Actual Values ');\n",
    "\n",
    "plt.show()\n",
    "\n",
    "print(\"classification report = \", )\n",
    "print(classification_report(y_test,y_predicted))\n"
   ]
  },
  {
   "cell_type": "code",
   "execution_count": 113,
   "id": "3c121f5e-e45c-4a82-9503-54dcb8aa00c0",
   "metadata": {},
   "outputs": [
    {
     "name": "stdout",
     "output_type": "stream",
     "text": [
      "MLP architecture 2 with count vectorizer score =  0.7408\n",
      "confusion matrix for architecture 2 with ctf-id vectorizer\n"
     ]
    },
    {
     "data": {
      "image/png": "[encoded data removed]",
      "text/plain": [
       "<Figure size 432x288 with 2 Axes>"
      ]
     },
     "metadata": {
      "needs_background": "light"
     },
     "output_type": "display_data"
    },
    {
     "name": "stdout",
     "output_type": "stream",
     "text": [
      "classification report = \n",
      "              precision    recall  f1-score   support\n",
      "\n",
      "           1       0.20      0.39      0.26        18\n",
      "           2       0.67      0.13      0.22        15\n",
      "           3       0.93      0.24      0.38        58\n",
      "           4       0.53      0.40      0.46       288\n",
      "           5       0.81      0.90      0.85       871\n",
      "\n",
      "    accuracy                           0.74      1250\n",
      "   macro avg       0.63      0.41      0.44      1250\n",
      "weighted avg       0.74      0.74      0.72      1250\n",
      "\n"
     ]
    }
   ],
   "source": [
    "tf_id_vectr_mlp = MLPClassifier(hidden_layer_sizes=(10,5), activation='relu', solver='adam', max_iter=20000, alpha = 0.001)\n",
    "tf_id_vectr_mlp.fit(tf_id_vect_X_train, y_train)\n",
    "\n",
    "score = tf_id_vectr_mlp.score(tf_id_vect_X_test, y_test)\n",
    "y_predicted = tf_id_vectr_mlp.predict(tf_id_vect_X_test)\n",
    "cf_matrix = confusion_matrix(y_test, y_predicted)\n",
    "print(\"MLP architecture 2 with count vectorizer score = \",score )\n",
    "\n",
    "#plot the confusion matrix\n",
    "print(\"confusion matrix for architecture 2 with ctf-id vectorizer\")\n",
    "ax = sns.heatmap(cf_matrix, annot=True)\n",
    "ax.set_xlabel('\\nPredicted Values')\n",
    "ax.set_ylabel('Actual Values ');\n",
    "\n",
    "plt.show()\n",
    "\n",
    "print(\"classification report = \", )\n",
    "print(classification_report(y_test,y_predicted))"
   ]
  },
  {
   "cell_type": "code",
   "execution_count": null,
   "id": "01e4dc1d-66b6-4609-8fb9-af4b5003212e",
   "metadata": {},
   "outputs": [],
   "source": []
  },
  {
   "cell_type": "markdown",
   "id": "65f75576-13e8-452b-b2b2-1b66064d6587",
   "metadata": {},
   "source": [
    "##### **2.3: Word2vec and MLP classifer**"
   ]
  },
  {
   "cell_type": "code",
   "execution_count": 114,
   "id": "168aa7ff-9a45-4939-8720-37d3351e18a2",
   "metadata": {},
   "outputs": [],
   "source": [
    "#training and generating word2vec on trainng data\n",
    "from gensim.models import Word2Vec\n",
    "model = Word2Vec(X_train, min_count=1,vector_size= 150,workers=3, window =3, sg = 1)"
   ]
  },
  {
   "cell_type": "code",
   "execution_count": 115,
   "id": "147b7bc7-9aaf-4ff6-91dc-223c28d7bc58",
   "metadata": {},
   "outputs": [],
   "source": [
    "# helper function to get the average\n",
    "def getAvg(words, model, num_features):\n",
    "    featureVec = np.zeros(num_features,dtype=\"float32\")\n",
    "    nwords = 0\n",
    "    index2word_set = set(model.wv.index_to_key)\n",
    "    \n",
    "    for word in  words:\n",
    "        if word in index2word_set:\n",
    "            nwords = nwords + 1\n",
    "            featureVec = np.add(featureVec,model.wv[word])\n",
    "    featureVec = np.divide(featureVec, nwords)\n",
    "    return featureVec\n",
    "\n",
    "# function ot get the vectors for for words in each reviewa nd take avg of it\n",
    "def getFeaturesVectors(reviews, model, num_features):\n",
    "    counter = 0\n",
    "    reviewFeatureVecs = np.zeros((len(reviews),num_features),dtype=\"float32\")\n",
    "    for review in reviews:\n",
    "        reviewFeatureVecs[counter] = getAvg(review, model, num_features)\n",
    "        counter = counter+1\n",
    "        \n",
    "    return reviewFeatureVecs"
   ]
  },
  {
   "cell_type": "code",
   "execution_count": 116,
   "id": "f9fe83cc-64a5-4221-aa3d-6b4d99a02597",
   "metadata": {},
   "outputs": [
    {
     "name": "stdout",
     "output_type": "stream",
     "text": [
      "trainDataVecs shape =  (3750, 150)\n",
      "testdatavecs shape =  (1250, 150)\n"
     ]
    }
   ],
   "source": [
    "trainDataVecs = getFeaturesVectors(X_train, model, 150)\n",
    "testDataVecs =  getFeaturesVectors(X_test, model, 150)\n",
    "\n",
    "print(\"trainDataVecs shape = \", trainDataVecs.shape)\n",
    "print(\"testdatavecs shape = \", testDataVecs.shape)"
   ]
  },
  {
   "cell_type": "code",
   "execution_count": 117,
   "id": "3c81072f-2f23-4df3-bbad-b69de06439cf",
   "metadata": {},
   "outputs": [
    {
     "name": "stdout",
     "output_type": "stream",
     "text": [
      "MLP architecture 3 with wrod2vec score =  0.7408\n",
      "confusion matrix for architecture 3 with word2vec vectorizer\n"
     ]
    },
    {
     "data": {
      "image/png": "[encoded data removed]",
      "text/plain": [
       "<Figure size 432x288 with 2 Axes>"
      ]
     },
     "metadata": {
      "needs_background": "light"
     },
     "output_type": "display_data"
    },
    {
     "name": "stdout",
     "output_type": "stream",
     "text": [
      "classification report = \n",
      "              precision    recall  f1-score   support\n",
      "\n",
      "           1       0.00      0.00      0.00        18\n",
      "           2       0.00      0.00      0.00        15\n",
      "           3       0.00      0.00      0.00        58\n",
      "           4       0.00      0.00      0.00       288\n",
      "           5       0.70      1.00      0.82       871\n",
      "\n",
      "    accuracy                           0.70      1250\n",
      "   macro avg       0.14      0.20      0.16      1250\n",
      "weighted avg       0.49      0.70      0.57      1250\n",
      "\n"
     ]
    },
    {
     "name": "stderr",
     "output_type": "stream",
     "text": [
      "/home/honey/anaconda3/lib/python3.8/site-packages/sklearn/metrics/_classification.py:1308: UndefinedMetricWarning: Precision and F-score are ill-defined and being set to 0.0 in labels with no predicted samples. Use `zero_division` parameter to control this behavior.\n",
      "  _warn_prf(average, modifier, msg_start, len(result))\n",
      "/home/honey/anaconda3/lib/python3.8/site-packages/sklearn/metrics/_classification.py:1308: UndefinedMetricWarning: Precision and F-score are ill-defined and being set to 0.0 in labels with no predicted samples. Use `zero_division` parameter to control this behavior.\n",
      "  _warn_prf(average, modifier, msg_start, len(result))\n",
      "/home/honey/anaconda3/lib/python3.8/site-packages/sklearn/metrics/_classification.py:1308: UndefinedMetricWarning: Precision and F-score are ill-defined and being set to 0.0 in labels with no predicted samples. Use `zero_division` parameter to control this behavior.\n",
      "  _warn_prf(average, modifier, msg_start, len(result))\n"
     ]
    }
   ],
   "source": [
    "word2vec_mlp = MLPClassifier(hidden_layer_sizes=(10, 10, 10), activation='relu', solver='adam', max_iter=20000, alpha = 0.001)\n",
    "word2vec_mlp.fit(trainDataVecs,y_train)\n",
    "\n",
    "y_predicted = word2vec_mlp.predict(testDataVecs)\n",
    "cf_matrix = confusion_matrix(y_test, y_predicted)\n",
    "score = word2vec_mlp.score(tf_id_vect_X_test, y_test)\n",
    "print(\"MLP architecture 3 with wrod2vec score = \",score )\n",
    "\n",
    "#plot the confusion matrix\n",
    "print(\"confusion matrix for architecture 3 with word2vec vectorizer\")\n",
    "ax = sns.heatmap(cf_matrix, annot=True)\n",
    "ax.set_xlabel('\\nPredicted Values')\n",
    "ax.set_ylabel('Actual Values ');\n",
    "\n",
    "plt.show()\n",
    "\n",
    "print(\"classification report = \", )\n",
    "print(classification_report(y_test,y_predicted))"
   ]
  },
  {
   "cell_type": "markdown",
   "id": "119ddc99-a953-42ee-8948-847749e732af",
   "metadata": {},
   "source": [
    "**Here we see that because class imbalance problem word2vec model predicts only label 5**"
   ]
  },
  {
   "cell_type": "markdown",
   "id": "1e9f71f3-f53e-442d-bda9-1d61008d6dc2",
   "metadata": {},
   "source": [
    "#### **2.4: GRU and deault embedding**"
   ]
  },
  {
   "cell_type": "code",
   "execution_count": 118,
   "id": "7ef7b389-6243-45ab-8e32-e6070e6acafc",
   "metadata": {},
   "outputs": [],
   "source": [
    "from tensorflow.python.keras.preprocessing.text import Tokenizer\n",
    "from tensorflow.python.keras.preprocessing.sequence import pad_sequences\n",
    "\n",
    "\n",
    "tokenizer_obj = Tokenizer()\n",
    "#total_reviews = X_train + X_test\n",
    "tokenizer_obj.fit_on_texts(reviews) \n",
    "\n",
    "# pad sequences\n",
    "max_length = 100 # try other options like mean\n",
    "# define vocabulary size\n",
    "vocab_size = len(tokenizer_obj.word_index) + 1\n",
    "\n",
    "X_train_tokens =  tokenizer_obj.texts_to_sequences(X_train)\n",
    "X_test_tokens = tokenizer_obj.texts_to_sequences(X_test)\n",
    "\n",
    "\n",
    "X_train_pad = pad_sequences(X_train_tokens, maxlen=max_length, padding='post')\n",
    "X_test_pad = pad_sequences(X_test_tokens, maxlen=max_length, padding='post')\n",
    "\n",
    "\n",
    "y_train = pd.get_dummies(y_train)\n",
    "y_test = pd.get_dummies(y_test)"
   ]
  },
  {
   "cell_type": "code",
   "execution_count": 119,
   "id": "f6e15a90-2812-4a79-9a65-b22fb00361c7",
   "metadata": {},
   "outputs": [
    {
     "name": "stdout",
     "output_type": "stream",
     "text": [
      "Build model...\n",
      "Summary of the built model...\n",
      "Model: \"sequential_4\"\n",
      "_________________________________________________________________\n",
      "Layer (type)                 Output Shape              Param #   \n",
      "=================================================================\n",
      "embedding_3 (Embedding)      (None, 100, 100)          610300    \n",
      "_________________________________________________________________\n",
      "gru_2 (GRU)                  (None, 32)                12864     \n",
      "_________________________________________________________________\n",
      "dense_3 (Dense)              (None, 5)                 165       \n",
      "=================================================================\n",
      "Total params: 623,329\n",
      "Trainable params: 623,329\n",
      "Non-trainable params: 0\n",
      "_________________________________________________________________\n",
      "None\n"
     ]
    }
   ],
   "source": [
    "#GRU model with default embedding\n",
    "from keras.models import Sequential\n",
    "from keras.layers import Dense, Embedding, LSTM, GRU\n",
    "from keras.layers.embeddings import Embedding\n",
    "\n",
    "EMBEDDING_DIM = 100\n",
    "\n",
    "print('Build model...')\n",
    "\n",
    "model = Sequential()\n",
    "model.add(Embedding(vocab_size, EMBEDDING_DIM, input_length=max_length))\n",
    "model.add(GRU(units=32,  dropout=0.2, recurrent_dropout=0.2))\n",
    "model.add(Dense(5, activation='sigmoid'))\n",
    "\n",
    "# try using different optimizers and different optimizer configs\n",
    "model.compile(loss='binary_crossentropy', optimizer='adam', metrics=['accuracy'])\n",
    "\n",
    "print('Summary of the built model...')\n",
    "print(model.summary())"
   ]
  },
  {
   "cell_type": "code",
   "execution_count": 120,
   "id": "f8a61cf3-94be-4fed-935f-34d8553dd15c",
   "metadata": {},
   "outputs": [
    {
     "name": "stdout",
     "output_type": "stream",
     "text": [
      "Training GRU model with deafault embeddings\n"
     ]
    },
    {
     "name": "stderr",
     "output_type": "stream",
     "text": [
      "/home/honey/anaconda3/lib/python3.8/site-packages/tensorflow/python/data/ops/dataset_ops.py:4211: UserWarning: Even though the `tf.config.experimental_run_functions_eagerly` option is set, this option does not apply to tf.data functions. To force eager execution of tf.data functions, please use `tf.data.experimental.enable_debug_mode()`.\n",
      "  warnings.warn(\n",
      "/home/honey/anaconda3/lib/python3.8/site-packages/tensorflow/python/data/ops/dataset_ops.py:4211: UserWarning: Even though the `tf.config.experimental_run_functions_eagerly` option is set, this option does not apply to tf.data functions. To force eager execution of tf.data functions, please use `tf.data.experimental.enable_debug_mode()`.\n",
      "  warnings.warn(\n"
     ]
    },
    {
     "name": "stdout",
     "output_type": "stream",
     "text": [
      "Epoch 1/25\n"
     ]
    },
    {
     "name": "stderr",
     "output_type": "stream",
     "text": [
      "/home/honey/anaconda3/lib/python3.8/site-packages/tensorflow/python/data/ops/dataset_ops.py:4211: UserWarning: Even though the `tf.config.experimental_run_functions_eagerly` option is set, this option does not apply to tf.data functions. To force eager execution of tf.data functions, please use `tf.data.experimental.enable_debug_mode()`.\n",
      "  warnings.warn(\n"
     ]
    },
    {
     "name": "stdout",
     "output_type": "stream",
     "text": [
      "30/30 - 25s - loss: 0.5458 - accuracy: 0.6597 - val_loss: 0.3494 - val_accuracy: 0.6968\n",
      "Epoch 2/25\n",
      "30/30 - 23s - loss: 0.3040 - accuracy: 0.6952 - val_loss: 0.2986 - val_accuracy: 0.6968\n",
      "Epoch 3/25\n",
      "30/30 - 25s - loss: 0.2923 - accuracy: 0.6952 - val_loss: 0.2980 - val_accuracy: 0.6968\n",
      "Epoch 4/25\n",
      "30/30 - 22s - loss: 0.2914 - accuracy: 0.6952 - val_loss: 0.2972 - val_accuracy: 0.6968\n",
      "Epoch 5/25\n",
      "30/30 - 21s - loss: 0.2910 - accuracy: 0.6952 - val_loss: 0.2971 - val_accuracy: 0.6968\n",
      "Epoch 6/25\n",
      "30/30 - 23s - loss: 0.2911 - accuracy: 0.6952 - val_loss: 0.2970 - val_accuracy: 0.6968\n",
      "Epoch 7/25\n",
      "30/30 - 22s - loss: 0.2900 - accuracy: 0.6952 - val_loss: 0.2969 - val_accuracy: 0.6968\n",
      "Epoch 8/25\n",
      "30/30 - 22s - loss: 0.2899 - accuracy: 0.6952 - val_loss: 0.2968 - val_accuracy: 0.6968\n",
      "Epoch 9/25\n",
      "30/30 - 22s - loss: 0.2886 - accuracy: 0.6952 - val_loss: 0.2954 - val_accuracy: 0.6968\n",
      "Epoch 10/25\n",
      "30/30 - 22s - loss: 0.2860 - accuracy: 0.6955 - val_loss: 0.2926 - val_accuracy: 0.6968\n",
      "Epoch 11/25\n",
      "30/30 - 22s - loss: 0.2769 - accuracy: 0.6960 - val_loss: 0.2849 - val_accuracy: 0.6968\n",
      "Epoch 12/25\n",
      "30/30 - 22s - loss: 0.2498 - accuracy: 0.7171 - val_loss: 0.2700 - val_accuracy: 0.7080\n",
      "Epoch 13/25\n",
      "30/30 - 22s - loss: 0.2095 - accuracy: 0.8021 - val_loss: 0.2688 - val_accuracy: 0.7080\n",
      "Epoch 14/25\n",
      "30/30 - 22s - loss: 0.1846 - accuracy: 0.8320 - val_loss: 0.2823 - val_accuracy: 0.6840\n",
      "Epoch 15/25\n",
      "30/30 - 22s - loss: 0.1650 - accuracy: 0.8541 - val_loss: 0.2932 - val_accuracy: 0.6904\n",
      "Epoch 16/25\n",
      "30/30 - 21s - loss: 0.1491 - accuracy: 0.8715 - val_loss: 0.3004 - val_accuracy: 0.6912\n",
      "Epoch 17/25\n",
      "30/30 - 21s - loss: 0.1384 - accuracy: 0.8840 - val_loss: 0.3120 - val_accuracy: 0.6936\n",
      "Epoch 18/25\n",
      "30/30 - 22s - loss: 0.1324 - accuracy: 0.8891 - val_loss: 0.3266 - val_accuracy: 0.6944\n",
      "Epoch 19/25\n",
      "30/30 - 22s - loss: 0.1234 - accuracy: 0.8971 - val_loss: 0.3423 - val_accuracy: 0.6728\n",
      "Epoch 20/25\n",
      "30/30 - 23s - loss: 0.1174 - accuracy: 0.9051 - val_loss: 0.3499 - val_accuracy: 0.6752\n",
      "Epoch 21/25\n",
      "30/30 - 21s - loss: 0.1130 - accuracy: 0.9096 - val_loss: 0.3558 - val_accuracy: 0.6768\n",
      "Epoch 22/25\n",
      "30/30 - 21s - loss: 0.1079 - accuracy: 0.9104 - val_loss: 0.3650 - val_accuracy: 0.6832\n",
      "Epoch 23/25\n",
      "30/30 - 22s - loss: 0.1052 - accuracy: 0.9141 - val_loss: 0.3737 - val_accuracy: 0.6728\n",
      "Epoch 24/25\n",
      "30/30 - 22s - loss: 0.1021 - accuracy: 0.9179 - val_loss: 0.3768 - val_accuracy: 0.6712\n",
      "Epoch 25/25\n",
      "30/30 - 22s - loss: 0.0969 - accuracy: 0.9192 - val_loss: 0.3841 - val_accuracy: 0.6736\n"
     ]
    },
    {
     "data": {
      "text/plain": [
       "<keras.callbacks.History at 0x7f200d128220>"
      ]
     },
     "execution_count": 120,
     "metadata": {},
     "output_type": "execute_result"
    }
   ],
   "source": [
    "tf.config.run_functions_eagerly(True)\n",
    "\n",
    "print('Training GRU model with deafault embeddings')\n",
    "\n",
    "model.fit(X_train_pad, y_train, batch_size=128, epochs=25, validation_data=(X_test_pad, y_test), verbose=2)"
   ]
  },
  {
   "cell_type": "markdown",
   "id": "6cf67aa5-ff04-4349-8f82-a8a377541002",
   "metadata": {},
   "source": [
    "#### **2.5: GRU and word2vec embedding**"
   ]
  },
  {
   "cell_type": "code",
   "execution_count": 127,
   "id": "fdb3608b-5e4a-4283-b388-c6e99d868710",
   "metadata": {},
   "outputs": [
    {
     "name": "stdout",
     "output_type": "stream",
     "text": [
      "unique-words  =  6102\n",
      "Shape of review tensor: (5000, 100)\n",
      "Shape of sentiment tensor: (5000,)\n"
     ]
    }
   ],
   "source": [
    "tokenizer_obj = Tokenizer()\n",
    "tokenizer_obj.fit_on_texts(reviews)\n",
    "sequences = tokenizer_obj.texts_to_sequences(reviews)\n",
    "\n",
    "# pad sequences\n",
    "word_index = tokenizer_obj.word_index\n",
    "print(\"unique-words  = \",len(word_index))\n",
    "max_length = 100\n",
    "review_pad = pad_sequences(sequences, maxlen=max_length)\n",
    "sentiment =  df['reviews.rating'].values\n",
    "print('Shape of review tensor:', review_pad.shape)\n",
    "print('Shape of sentiment tensor:', sentiment.shape)\n",
    "\n",
    "X_train2, X_test2, y_train2, y_test2 = train_test_split(review_pad, df['reviews.rating'])"
   ]
  },
  {
   "cell_type": "code",
   "execution_count": 128,
   "id": "41dd009d-ba0a-4340-98c2-712ebce08497",
   "metadata": {},
   "outputs": [],
   "source": [
    "#train word2vec on newly padded and processed x-train and store the model\n",
    "from gensim.models import Word2Vec\n",
    "model_word2vec = Word2Vec(X_train, min_count=1,vector_size= 100,workers=3, window =3, sg = 1)\n"
   ]
  },
  {
   "cell_type": "code",
   "execution_count": 129,
   "id": "5072879e-a695-4134-80d7-a5298601daf9",
   "metadata": {},
   "outputs": [],
   "source": [
    "filename = 'embedding_word2vec.txt'\n",
    "model_word2vec.wv.save_word2vec_format(filename, binary=False)"
   ]
  },
  {
   "cell_type": "code",
   "execution_count": 130,
   "id": "71e29367-b031-45bf-bc3e-ab191a465bcf",
   "metadata": {},
   "outputs": [],
   "source": [
    "#creating embedding index for later use\n",
    "import os\n",
    "embeddings_index = {}\n",
    "f = open(os.path.join('', 'embedding_word2vec.txt'),  encoding = \"utf-8\")\n",
    "for line in f:\n",
    "    values = line.split()\n",
    "    word = values[0]\n",
    "    coefs = np.asarray(values[1:])\n",
    "    embeddings_index[word] = coefs\n",
    "f.close()\n",
    "\n"
   ]
  },
  {
   "cell_type": "code",
   "execution_count": 134,
   "id": "7163ec1c-43c8-4a07-8b58-4d7a71bbaef3",
   "metadata": {},
   "outputs": [],
   "source": [
    "#creating the embedding layer\n",
    "\n",
    "EMBEDDING_DIM =100\n",
    "num_words = len(word_index) + 1\n",
    "embedding_matrix = np.zeros((num_words, EMBEDDING_DIM))\n",
    "\n",
    "#choose only those words present in the embeddings\n",
    "for word, i in word_index.items():\n",
    "    if i > num_words:\n",
    "        continue\n",
    "    embedding_vector = embeddings_index.get(word)\n",
    "    if embedding_vector is not None:\n",
    "        # words not found in embedding index will be all-zeros.\n",
    "        embedding_matrix[i] = embedding_vector\n",
    "        \n",
    "y_train = pd.get_dummies(y_train)\n",
    "y_test = pd.get_dummies(y_test)"
   ]
  },
  {
   "cell_type": "code",
   "execution_count": 135,
   "id": "85d402c5-6e7a-4fe1-9902-7e52d97d06a3",
   "metadata": {},
   "outputs": [
    {
     "name": "stdout",
     "output_type": "stream",
     "text": [
      "Summary of the built model...\n",
      "Model: \"sequential_6\"\n",
      "_________________________________________________________________\n",
      "Layer (type)                 Output Shape              Param #   \n",
      "=================================================================\n",
      "embedding_5 (Embedding)      (None, 100, 100)          610300    \n",
      "_________________________________________________________________\n",
      "gru_4 (GRU)                  (None, 32)                12864     \n",
      "_________________________________________________________________\n",
      "dense_5 (Dense)              (None, 5)                 165       \n",
      "=================================================================\n",
      "Total params: 623,329\n",
      "Trainable params: 13,029\n",
      "Non-trainable params: 610,300\n",
      "_________________________________________________________________\n",
      "None\n"
     ]
    }
   ],
   "source": [
    "from keras.models import Sequential\n",
    "from keras.layers import Dense, Embedding, LSTM, GRU\n",
    "from keras.layers.embeddings import Embedding\n",
    "from keras.initializers import Constant\n",
    "\n",
    "# define model\n",
    "model2 = Sequential()\n",
    "embedding_layer = Embedding(num_words,\n",
    "                            EMBEDDING_DIM,\n",
    "                            embeddings_initializer=Constant(embedding_matrix),\n",
    "                            input_length=max_length,\n",
    "                            trainable=False)\n",
    "model2.add(embedding_layer)\n",
    "model2.add(GRU(units=32,  dropout=0.2, recurrent_dropout=0.2))\n",
    "model2.add(Dense(5, activation='sigmoid'))\n",
    "\n",
    "model2.compile(loss='binary_crossentropy', optimizer='adam', metrics=['accuracy'])\n",
    "\n",
    "print('Summary of the built model...')\n",
    "print(model2.summary())"
   ]
  },
  {
   "cell_type": "code",
   "execution_count": 136,
   "id": "58aca140-308f-4f36-b708-deabd91cbfcc",
   "metadata": {},
   "outputs": [
    {
     "name": "stdout",
     "output_type": "stream",
     "text": [
      "Trainining with model3 = GRU with word2vec embeddings\n",
      "Epoch 1/25\n"
     ]
    },
    {
     "name": "stderr",
     "output_type": "stream",
     "text": [
      "/home/honey/anaconda3/lib/python3.8/site-packages/tensorflow/python/data/ops/dataset_ops.py:4211: UserWarning: Even though the `tf.config.experimental_run_functions_eagerly` option is set, this option does not apply to tf.data functions. To force eager execution of tf.data functions, please use `tf.data.experimental.enable_debug_mode()`.\n",
      "  warnings.warn(\n",
      "/home/honey/anaconda3/lib/python3.8/site-packages/tensorflow/python/data/ops/dataset_ops.py:4211: UserWarning: Even though the `tf.config.experimental_run_functions_eagerly` option is set, this option does not apply to tf.data functions. To force eager execution of tf.data functions, please use `tf.data.experimental.enable_debug_mode()`.\n",
      "  warnings.warn(\n"
     ]
    },
    {
     "name": "stdout",
     "output_type": "stream",
     "text": [
      "30/30 - 16s - loss: 0.6052 - accuracy: 0.6704 - val_loss: 0.3430 - val_accuracy: 0.6952\n",
      "Epoch 2/25\n",
      "30/30 - 15s - loss: 0.3171 - accuracy: 0.6957 - val_loss: 0.2929 - val_accuracy: 0.6952\n",
      "Epoch 3/25\n",
      "30/30 - 15s - loss: 0.2976 - accuracy: 0.6957 - val_loss: 0.2875 - val_accuracy: 0.6952\n",
      "Epoch 4/25\n",
      "30/30 - 15s - loss: 0.2955 - accuracy: 0.6957 - val_loss: 0.2864 - val_accuracy: 0.6952\n",
      "Epoch 5/25\n",
      "30/30 - 17s - loss: 0.2950 - accuracy: 0.6957 - val_loss: 0.2859 - val_accuracy: 0.6952\n",
      "Epoch 6/25\n",
      "30/30 - 15s - loss: 0.2950 - accuracy: 0.6957 - val_loss: 0.2858 - val_accuracy: 0.6952\n",
      "Epoch 7/25\n",
      "30/30 - 15s - loss: 0.2950 - accuracy: 0.6957 - val_loss: 0.2856 - val_accuracy: 0.6952\n",
      "Epoch 8/25\n",
      "30/30 - 15s - loss: 0.2949 - accuracy: 0.6957 - val_loss: 0.2856 - val_accuracy: 0.6952\n",
      "Epoch 9/25\n",
      "30/30 - 15s - loss: 0.2948 - accuracy: 0.6957 - val_loss: 0.2858 - val_accuracy: 0.6952\n",
      "Epoch 10/25\n",
      "30/30 - 15s - loss: 0.2948 - accuracy: 0.6957 - val_loss: 0.2855 - val_accuracy: 0.6952\n",
      "Epoch 11/25\n",
      "30/30 - 15s - loss: 0.2948 - accuracy: 0.6957 - val_loss: 0.2855 - val_accuracy: 0.6952\n",
      "Epoch 12/25\n",
      "30/30 - 15s - loss: 0.2949 - accuracy: 0.6957 - val_loss: 0.2855 - val_accuracy: 0.6952\n",
      "Epoch 13/25\n",
      "30/30 - 15s - loss: 0.2947 - accuracy: 0.6957 - val_loss: 0.2855 - val_accuracy: 0.6952\n",
      "Epoch 14/25\n",
      "30/30 - 15s - loss: 0.2948 - accuracy: 0.6957 - val_loss: 0.2857 - val_accuracy: 0.6952\n",
      "Epoch 15/25\n",
      "30/30 - 15s - loss: 0.2947 - accuracy: 0.6957 - val_loss: 0.2855 - val_accuracy: 0.6952\n",
      "Epoch 16/25\n",
      "30/30 - 15s - loss: 0.2949 - accuracy: 0.6957 - val_loss: 0.2857 - val_accuracy: 0.6952\n",
      "Epoch 17/25\n",
      "30/30 - 15s - loss: 0.2948 - accuracy: 0.6957 - val_loss: 0.2855 - val_accuracy: 0.6952\n",
      "Epoch 18/25\n",
      "30/30 - 15s - loss: 0.2944 - accuracy: 0.6957 - val_loss: 0.2857 - val_accuracy: 0.6952\n",
      "Epoch 19/25\n",
      "30/30 - 15s - loss: 0.2949 - accuracy: 0.6957 - val_loss: 0.2857 - val_accuracy: 0.6952\n",
      "Epoch 20/25\n",
      "30/30 - 15s - loss: 0.2946 - accuracy: 0.6957 - val_loss: 0.2858 - val_accuracy: 0.6952\n",
      "Epoch 21/25\n",
      "30/30 - 15s - loss: 0.2945 - accuracy: 0.6957 - val_loss: 0.2854 - val_accuracy: 0.6952\n",
      "Epoch 22/25\n",
      "30/30 - 15s - loss: 0.2949 - accuracy: 0.6957 - val_loss: 0.2855 - val_accuracy: 0.6952\n",
      "Epoch 23/25\n",
      "30/30 - 15s - loss: 0.2948 - accuracy: 0.6957 - val_loss: 0.2856 - val_accuracy: 0.6952\n",
      "Epoch 24/25\n",
      "30/30 - 15s - loss: 0.2945 - accuracy: 0.6957 - val_loss: 0.2855 - val_accuracy: 0.6952\n",
      "Epoch 25/25\n",
      "30/30 - 15s - loss: 0.2946 - accuracy: 0.6957 - val_loss: 0.2854 - val_accuracy: 0.6952\n"
     ]
    },
    {
     "data": {
      "text/plain": [
       "<keras.callbacks.History at 0x7f1ff4703910>"
      ]
     },
     "execution_count": 136,
     "metadata": {},
     "output_type": "execute_result"
    }
   ],
   "source": [
    "print('Trainining with model3 = GRU with word2vec embeddings')\n",
    "\n",
    "model3.fit(X_train_pad, y_train, batch_size=128, epochs=25, validation_data=(X_test_pad, y_test), verbose=2)"
   ]
  },
  {
   "cell_type": "markdown",
   "id": "268ebf5c-e346-4a6a-b2d7-46dde21e240e",
   "metadata": {},
   "source": [
    "#### **2.6: LSTM**"
   ]
  },
  {
   "cell_type": "code",
   "execution_count": 137,
   "id": "bc62b2db-c652-479a-978a-1456085dfd36",
   "metadata": {},
   "outputs": [
    {
     "name": "stdout",
     "output_type": "stream",
     "text": [
      "Summary of the built model...\n",
      "Model: \"sequential_7\"\n",
      "_________________________________________________________________\n",
      "Layer (type)                 Output Shape              Param #   \n",
      "=================================================================\n",
      "embedding_6 (Embedding)      (None, 100, 100)          610300    \n",
      "_________________________________________________________________\n",
      "lstm_1 (LSTM)                (None, 32)                17024     \n",
      "_________________________________________________________________\n",
      "dense_6 (Dense)              (None, 5)                 165       \n",
      "=================================================================\n",
      "Total params: 627,489\n",
      "Trainable params: 17,189\n",
      "Non-trainable params: 610,300\n",
      "_________________________________________________________________\n",
      "None\n"
     ]
    }
   ],
   "source": [
    "from keras.models import Sequential\n",
    "from keras.layers import Dense, Embedding, LSTM, GRU\n",
    "from keras.layers.embeddings import Embedding\n",
    "from keras.initializers import Constant\n",
    "\n",
    "# define model\n",
    "model3 = Sequential()\n",
    "embedding_layer = Embedding(num_words,\n",
    "                            EMBEDDING_DIM,\n",
    "                            embeddings_initializer=Constant(embedding_matrix),\n",
    "                            input_length=max_length,\n",
    "                            trainable=False)\n",
    "model3.add(embedding_layer)\n",
    "model3.add(LSTM(units=32,  dropout=0.2, recurrent_dropout=0.2))\n",
    "model3.add(Dense(5, activation='sigmoid'))\n",
    "\n",
    "# try using different optimizers and different optimizer configs\n",
    "model3.compile(loss='binary_crossentropy', optimizer='adam', metrics=['accuracy'])\n",
    "\n",
    "print('Summary of the built model...')\n",
    "print(model3.summary())"
   ]
  },
  {
   "cell_type": "code",
   "execution_count": 138,
   "id": "58f0d45c-5c98-4878-bbfc-17f1cc2002c3",
   "metadata": {},
   "outputs": [
    {
     "name": "stdout",
     "output_type": "stream",
     "text": [
      "Trainining LSTM model\n",
      "Epoch 1/25\n"
     ]
    },
    {
     "name": "stderr",
     "output_type": "stream",
     "text": [
      "/home/honey/anaconda3/lib/python3.8/site-packages/tensorflow/python/data/ops/dataset_ops.py:4211: UserWarning: Even though the `tf.config.experimental_run_functions_eagerly` option is set, this option does not apply to tf.data functions. To force eager execution of tf.data functions, please use `tf.data.experimental.enable_debug_mode()`.\n",
      "  warnings.warn(\n",
      "/home/honey/anaconda3/lib/python3.8/site-packages/tensorflow/python/data/ops/dataset_ops.py:4211: UserWarning: Even though the `tf.config.experimental_run_functions_eagerly` option is set, this option does not apply to tf.data functions. To force eager execution of tf.data functions, please use `tf.data.experimental.enable_debug_mode()`.\n",
      "  warnings.warn(\n"
     ]
    },
    {
     "name": "stdout",
     "output_type": "stream",
     "text": [
      "30/30 - 15s - loss: 0.5839 - accuracy: 0.6744 - val_loss: 0.3545 - val_accuracy: 0.6952\n",
      "Epoch 2/25\n",
      "30/30 - 15s - loss: 0.3210 - accuracy: 0.6957 - val_loss: 0.2918 - val_accuracy: 0.6952\n",
      "Epoch 3/25\n",
      "30/30 - 15s - loss: 0.2964 - accuracy: 0.6957 - val_loss: 0.2864 - val_accuracy: 0.6952\n",
      "Epoch 4/25\n",
      "30/30 - 15s - loss: 0.2953 - accuracy: 0.6957 - val_loss: 0.2859 - val_accuracy: 0.6952\n",
      "Epoch 5/25\n",
      "30/30 - 15s - loss: 0.2950 - accuracy: 0.6957 - val_loss: 0.2858 - val_accuracy: 0.6952\n",
      "Epoch 6/25\n",
      "30/30 - 15s - loss: 0.2948 - accuracy: 0.6957 - val_loss: 0.2854 - val_accuracy: 0.6952\n",
      "Epoch 7/25\n",
      "30/30 - 15s - loss: 0.2951 - accuracy: 0.6957 - val_loss: 0.2856 - val_accuracy: 0.6952\n",
      "Epoch 8/25\n",
      "30/30 - 15s - loss: 0.2948 - accuracy: 0.6957 - val_loss: 0.2857 - val_accuracy: 0.6952\n",
      "Epoch 9/25\n",
      "30/30 - 15s - loss: 0.2949 - accuracy: 0.6957 - val_loss: 0.2855 - val_accuracy: 0.6952\n",
      "Epoch 10/25\n",
      "30/30 - 15s - loss: 0.2945 - accuracy: 0.6957 - val_loss: 0.2855 - val_accuracy: 0.6952\n",
      "Epoch 11/25\n",
      "30/30 - 15s - loss: 0.2948 - accuracy: 0.6957 - val_loss: 0.2854 - val_accuracy: 0.6952\n",
      "Epoch 12/25\n",
      "30/30 - 15s - loss: 0.2948 - accuracy: 0.6957 - val_loss: 0.2855 - val_accuracy: 0.6952\n",
      "Epoch 13/25\n",
      "30/30 - 15s - loss: 0.2946 - accuracy: 0.6957 - val_loss: 0.2856 - val_accuracy: 0.6952\n",
      "Epoch 14/25\n",
      "30/30 - 15s - loss: 0.2949 - accuracy: 0.6957 - val_loss: 0.2855 - val_accuracy: 0.6952\n",
      "Epoch 15/25\n",
      "30/30 - 15s - loss: 0.2948 - accuracy: 0.6957 - val_loss: 0.2855 - val_accuracy: 0.6952\n",
      "Epoch 16/25\n",
      "30/30 - 15s - loss: 0.2948 - accuracy: 0.6957 - val_loss: 0.2857 - val_accuracy: 0.6952\n",
      "Epoch 17/25\n",
      "30/30 - 16s - loss: 0.2949 - accuracy: 0.6957 - val_loss: 0.2856 - val_accuracy: 0.6952\n",
      "Epoch 18/25\n",
      "30/30 - 15s - loss: 0.2945 - accuracy: 0.6957 - val_loss: 0.2855 - val_accuracy: 0.6952\n",
      "Epoch 19/25\n",
      "30/30 - 15s - loss: 0.2949 - accuracy: 0.6957 - val_loss: 0.2855 - val_accuracy: 0.6952\n",
      "Epoch 20/25\n",
      "30/30 - 15s - loss: 0.2949 - accuracy: 0.6957 - val_loss: 0.2858 - val_accuracy: 0.6952\n",
      "Epoch 21/25\n",
      "30/30 - 15s - loss: 0.2948 - accuracy: 0.6957 - val_loss: 0.2856 - val_accuracy: 0.6952\n",
      "Epoch 22/25\n",
      "30/30 - 15s - loss: 0.2948 - accuracy: 0.6957 - val_loss: 0.2861 - val_accuracy: 0.6952\n",
      "Epoch 23/25\n",
      "30/30 - 15s - loss: 0.2950 - accuracy: 0.6957 - val_loss: 0.2854 - val_accuracy: 0.6952\n",
      "Epoch 24/25\n",
      "30/30 - 15s - loss: 0.2947 - accuracy: 0.6957 - val_loss: 0.2860 - val_accuracy: 0.6952\n",
      "Epoch 25/25\n",
      "30/30 - 15s - loss: 0.2949 - accuracy: 0.6957 - val_loss: 0.2856 - val_accuracy: 0.6952\n"
     ]
    },
    {
     "data": {
      "text/plain": [
       "<keras.callbacks.History at 0x7f1ff40cf6a0>"
      ]
     },
     "execution_count": 138,
     "metadata": {},
     "output_type": "execute_result"
    }
   ],
   "source": [
    "print('Trainining LSTM model')\n",
    "\n",
    "model3.fit(X_train_pad, y_train, batch_size=128, epochs=25, validation_data=(X_test_pad, y_test), verbose=2)"
   ]
  },
  {
   "cell_type": "code",
   "execution_count": null,
   "id": "c7d39368-4f41-4f39-a454-c44c13356f32",
   "metadata": {},
   "outputs": [],
   "source": []
  },
  {
   "cell_type": "code",
   "execution_count": null,
   "id": "9e3dedce-f5a3-4ed0-8057-4e57524ff187",
   "metadata": {},
   "outputs": [],
   "source": []
  }
 ],
 "metadata": {
  "kernelspec": {
   "display_name": "Python 3.8.8 64-bit ('base': conda)",
   "language": "python",
   "name": "python388jvsc74a57bd0d2fc24a3768354b1c4f177f8460c8ccbc47fb51737954a3d73f80bf3a5588252"
  },
  "language_info": {
   "codemirror_mode": {
    "name": "ipython",
    "version": 3
   },
   "file_extension": ".py",
   "mimetype": "text/x-python",
   "name": "python",
   "nbconvert_exporter": "python",
   "pygments_lexer": "ipython3",
   "version": "3.8.8"
  }
 },
 "nbformat": 4,
 "nbformat_minor": 5
}
