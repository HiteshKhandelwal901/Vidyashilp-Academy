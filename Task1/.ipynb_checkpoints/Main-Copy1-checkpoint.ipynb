{
 "cells": [
  {
   "cell_type": "markdown",
   "id": "351ea88e-b1f5-4def-98ca-ead8277745d7",
   "metadata": {},
   "source": [
    "# Cat vs Dod Audio Claaification using Mfccs"
   ]
  },
  {
   "cell_type": "code",
   "execution_count": null,
   "id": "b3d19947-aa57-459e-96a7-3070faa91407",
   "metadata": {},
   "outputs": [],
   "source": [
    "#Importing the required libraries\n",
    "\n",
    "import pandas as pd\n",
    "import numpy as np\n",
    "import os\n",
    "import librosa \n",
    "import tensorflow as tf\n",
    "import librosa.display\n",
    "import matplotlib.pyplot as plt\n",
    "import seaborn as sns\n",
    "from sklearn.preprocessing import LabelEncoder,OneHotEncoder\n",
    "import tensorflow.keras.layers as layers\n",
    "from sklearn.metrics import confusion_matrix,classification_report,accuracy_score,f1_score"
   ]
  },
  {
   "cell_type": "code",
   "execution_count": 6,
   "id": "96cfb995-62df-4596-808e-d703d6ccb04c",
   "metadata": {},
   "outputs": [
    {
     "data": {
      "text/plain": [
       "'/home/honey/Desktop/Vidyashilp-Assignment/Task1'"
      ]
     },
     "execution_count": 6,
     "metadata": {},
     "output_type": "execute_result"
    }
   ],
   "source": [
    "pwd"
   ]
  },
  {
   "cell_type": "code",
   "execution_count": null,
   "id": "f0d3f3dc-ddc8-42d1-aeda-cc11362701cc",
   "metadata": {},
   "outputs": [],
   "source": [
    "#Function to generate the train data\n",
    "def generate_Train_data(directory):\n",
    "    names = []\n",
    "    label_names = []\n",
    "    for folder in os.listdir(directory):\n",
    "        #for each folder in cat and dog get the respective files\n",
    "    for filename in os.listdir(directory + '/' + str(folder)):\n",
    "        #for each file\n",
    "        f = os.path.join(directory + '/' + str(folder), filename)\n",
    "        names.append(f.split('/')[-1])\n",
    "        label_name.append(f.split('/')[-2])\n",
    "    "
   ]
  },
  {
   "cell_type": "code",
   "execution_count": 37,
   "id": "b528fcd8-f993-42f1-92cc-fc8fc753d6d3",
   "metadata": {},
   "outputs": [
    {
     "name": "stdout",
     "output_type": "stream",
     "text": [
      "folder =  dog\n",
      "folder =  cat\n"
     ]
    }
   ],
   "source": [
    "#train data creator\n",
    "\n",
    "names = []\n",
    "label_name=[]\n",
    "# import required module\n",
    "import os\n",
    "# assign directory\n",
    "directory = 'input/cats_dogs/train'\n",
    "os.listdir(directory)\n",
    "# iterate over files in\n",
    "# that directory\n",
    "for folder in os.listdir(directory):\n",
    "    print(\"folder = \", folder)\n",
    "    for filename in os.listdir(directory + '/' + str(folder)):\n",
    "        #print(\"filename = \", filename)\n",
    "        f = os.path.join(directory + '/' + str(folder), filename)\n",
    "        #print(f)\n",
    "        names.append(f.split('/')[-1])\n",
    "        label_name.append(f.split('/')[-2])"
   ]
  },
  {
   "cell_type": "code",
   "execution_count": 38,
   "id": "a9ae879c-79f1-469b-a250-d84dc607eb5a",
   "metadata": {},
   "outputs": [],
   "source": [
    "train_data=pd.DataFrame()\n",
    "train_data['ID']=ID\n",
    "train_data['label']=label"
   ]
  },
  {
   "cell_type": "code",
   "execution_count": 39,
   "id": "8a51ed31-2c56-4d97-af26-c3c4670d77b2",
   "metadata": {},
   "outputs": [],
   "source": [
    "#train_data"
   ]
  },
  {
   "cell_type": "code",
   "execution_count": 40,
   "id": "c846ccd7-63ab-45e1-87ea-e56503280e02",
   "metadata": {},
   "outputs": [
    {
     "name": "stderr",
     "output_type": "stream",
     "text": [
      "/home/honey/anaconda3/lib/python3.8/site-packages/seaborn/_decorators.py:36: FutureWarning: Pass the following variable as a keyword arg: x. From version 0.12, the only valid positional argument will be `data`, and passing other arguments without an explicit keyword will result in an error or misinterpretation.\n",
      "  warnings.warn(\n"
     ]
    },
    {
     "data": {
      "text/plain": [
       "<Figure size 640x480 with 0 Axes>"
      ]
     },
     "metadata": {},
     "output_type": "display_data"
    },
    {
     "data": {
      "text/plain": [
       "<Figure size 640x480 with 0 Axes>"
      ]
     },
     "metadata": {},
     "output_type": "display_data"
    },
    {
     "data": {
      "image/png": "[encoded data removed]",
      "text/plain": [
       "<Figure size 640x480 with 1 Axes>"
      ]
     },
     "metadata": {},
     "output_type": "display_data"
    }
   ],
   "source": [
    "plt.figure(figsize=(8,6),dpi=80)\n",
    "sns.set_theme(style=\"darkgrid\")\n",
    "sns.countplot('label',data=train_data)\n",
    "plt.title('counts: \\n' +'dogs:'+str(train_data.label.value_counts()[1])+\n",
    "          '\\n cats:'+str(train_data.label.value_counts()[0]))\n",
    "plt.show()"
   ]
  },
  {
   "cell_type": "code",
   "execution_count": 42,
   "id": "8d65ae6e-6aea-4a29-811d-54a856bcbea8",
   "metadata": {},
   "outputs": [
    {
     "name": "stdout",
     "output_type": "stream",
     "text": [
      "folder =  cats\n",
      "folder =  test\n"
     ]
    }
   ],
   "source": [
    "#test data creator\n",
    "\n",
    "ID=[]\n",
    "label=[]\n",
    "# import required module\n",
    "import os\n",
    "# assign directory\n",
    "directory = 'input/cats_dogs/test'\n",
    "os.listdir(directory)\n",
    "# iterate over files in\n",
    "# that directory\n",
    "for folder in os.listdir(directory):\n",
    "    print(\"folder = \", folder)\n",
    "    for filename in os.listdir(directory + '/' + str(folder)):\n",
    "        #print(\"filename = \", filename)\n",
    "        f = os.path.join(directory + '/' + str(folder), filename)\n",
    "        #print(f)\n",
    "        ID.append(f.split('/')[-1])\n",
    "        label.append(f.split('/')[-2])\n",
    "        \n",
    "for i in range(len(label)):\n",
    "    if(label[i]=='test'):\n",
    "        label[i]='dogs'\n",
    "\n"
   ]
  },
  {
   "cell_type": "code",
   "execution_count": 43,
   "id": "11dca571-a486-47a2-8b7b-1ec1d4e5de3e",
   "metadata": {},
   "outputs": [
    {
     "data": {
      "text/html": [
       "<div>\n",
       "<style scoped>\n",
       "    .dataframe tbody tr th:only-of-type {\n",
       "        vertical-align: middle;\n",
       "    }\n",
       "\n",
       "    .dataframe tbody tr th {\n",
       "        vertical-align: top;\n",
       "    }\n",
       "\n",
       "    .dataframe thead th {\n",
       "        text-align: right;\n",
       "    }\n",
       "</style>\n",
       "<table border=\"1\" class=\"dataframe\">\n",
       "  <thead>\n",
       "    <tr style=\"text-align: right;\">\n",
       "      <th></th>\n",
       "      <th>ID</th>\n",
       "      <th>label</th>\n",
       "    </tr>\n",
       "  </thead>\n",
       "  <tbody>\n",
       "    <tr>\n",
       "      <th>0</th>\n",
       "      <td>cat_112.wav</td>\n",
       "      <td>cats</td>\n",
       "    </tr>\n",
       "    <tr>\n",
       "      <th>1</th>\n",
       "      <td>cat_14.wav</td>\n",
       "      <td>cats</td>\n",
       "    </tr>\n",
       "    <tr>\n",
       "      <th>2</th>\n",
       "      <td>cat_57.wav</td>\n",
       "      <td>cats</td>\n",
       "    </tr>\n",
       "    <tr>\n",
       "      <th>3</th>\n",
       "      <td>cat_115.wav</td>\n",
       "      <td>cats</td>\n",
       "    </tr>\n",
       "    <tr>\n",
       "      <th>4</th>\n",
       "      <td>cat_86.wav</td>\n",
       "      <td>cats</td>\n",
       "    </tr>\n",
       "    <tr>\n",
       "      <th>...</th>\n",
       "      <td>...</td>\n",
       "      <td>...</td>\n",
       "    </tr>\n",
       "    <tr>\n",
       "      <th>62</th>\n",
       "      <td>dog_barking_3.wav</td>\n",
       "      <td>dogs</td>\n",
       "    </tr>\n",
       "    <tr>\n",
       "      <th>63</th>\n",
       "      <td>dog_barking_66.wav</td>\n",
       "      <td>dogs</td>\n",
       "    </tr>\n",
       "    <tr>\n",
       "      <th>64</th>\n",
       "      <td>dog_barking_62.wav</td>\n",
       "      <td>dogs</td>\n",
       "    </tr>\n",
       "    <tr>\n",
       "      <th>65</th>\n",
       "      <td>dog_barking_48.wav</td>\n",
       "      <td>dogs</td>\n",
       "    </tr>\n",
       "    <tr>\n",
       "      <th>66</th>\n",
       "      <td>dog_barking_59.wav</td>\n",
       "      <td>dogs</td>\n",
       "    </tr>\n",
       "  </tbody>\n",
       "</table>\n",
       "<p>67 rows × 2 columns</p>\n",
       "</div>"
      ],
      "text/plain": [
       "                    ID label\n",
       "0          cat_112.wav  cats\n",
       "1           cat_14.wav  cats\n",
       "2           cat_57.wav  cats\n",
       "3          cat_115.wav  cats\n",
       "4           cat_86.wav  cats\n",
       "..                 ...   ...\n",
       "62   dog_barking_3.wav  dogs\n",
       "63  dog_barking_66.wav  dogs\n",
       "64  dog_barking_62.wav  dogs\n",
       "65  dog_barking_48.wav  dogs\n",
       "66  dog_barking_59.wav  dogs\n",
       "\n",
       "[67 rows x 2 columns]"
      ]
     },
     "execution_count": 43,
     "metadata": {},
     "output_type": "execute_result"
    }
   ],
   "source": [
    "test_data=pd.DataFrame()\n",
    "test_data['ID']=ID\n",
    "test_data['label']=label\n",
    "#test_data"
   ]
  },
  {
   "cell_type": "code",
   "execution_count": 45,
   "id": "d6bfdf27-35fc-4b7c-9640-1405ca938cb4",
   "metadata": {},
   "outputs": [],
   "source": [
    "def extract_features(directory):\n",
    "    features=[]\n",
    "    ID=[]\n",
    "    for folder in os.listdir(directory):\n",
    "        print(\"folder = \", folder)\n",
    "        for filename in os.listdir(directory+ '/' + str(folder)):\n",
    "            f = os.path.join(directory + '/' + str(folder), filename)\n",
    "            x,sr=librosa.load(f, res_type='kaiser_fast',sr=None)\n",
    "            mfccs=np.mean(librosa.feature.mfcc(x,sr=sr,n_mfcc=100).T,axis=0)\n",
    "            features.append(mfccs)\n",
    "            ID.append(f.split('/')[-1])\n",
    "    return [ID, features]"
   ]
  },
  {
   "cell_type": "code",
   "execution_count": 46,
   "id": "4f786fc8-7f30-4312-b783-61326b93bcec",
   "metadata": {},
   "outputs": [
    {
     "name": "stdout",
     "output_type": "stream",
     "text": [
      "folder =  dog\n",
      "folder =  cat\n"
     ]
    }
   ],
   "source": [
    "ID, features_train = extract_features('input/cats_dogs/train')"
   ]
  },
  {
   "cell_type": "code",
   "execution_count": 47,
   "id": "89e3bc95-c547-46cb-acc8-56d282ca5ec7",
   "metadata": {},
   "outputs": [
    {
     "name": "stdout",
     "output_type": "stream",
     "text": [
      "210\n"
     ]
    },
    {
     "data": {
      "text/plain": [
       "True"
      ]
     },
     "execution_count": 47,
     "metadata": {},
     "output_type": "execute_result"
    }
   ],
   "source": [
    "#checking that if they are same, there should be no zero or false value\n",
    "\n",
    "print(np.count_nonzero(train_data.ID==ID) )\n",
    "\n",
    "#the ablove thing should be equal to the original shape of ID's in train_data\n",
    "\n",
    "len(train_data.ID)==np.count_nonzero(train_data.ID==ID) "
   ]
  },
  {
   "cell_type": "code",
   "execution_count": 49,
   "id": "c6d08a81-ba25-490c-ae0d-34008acf30e2",
   "metadata": {},
   "outputs": [
    {
     "name": "stdout",
     "output_type": "stream",
     "text": [
      "folder =  cats\n",
      "folder =  test\n"
     ]
    },
    {
     "data": {
      "text/plain": [
       "True"
      ]
     },
     "execution_count": 49,
     "metadata": {},
     "output_type": "execute_result"
    }
   ],
   "source": [
    "ID,features_test=extract_features('input/cats_dogs/test')\n",
    "\n",
    "len(test_data.ID)==np.count_nonzero(test_data.ID==ID)"
   ]
  },
  {
   "cell_type": "code",
   "execution_count": 50,
   "id": "78c44f2b-ff48-4735-9e38-45e0117ffe43",
   "metadata": {},
   "outputs": [],
   "source": [
    "X_train=np.array(features_train)\n",
    "X_test=np.array(features_test)"
   ]
  },
  {
   "cell_type": "code",
   "execution_count": 51,
   "id": "0ae0dd24-edcf-40e5-a7f9-58fe98f414df",
   "metadata": {},
   "outputs": [],
   "source": [
    "Y_train=train_data.label\n",
    "Y_test=test_data.label"
   ]
  },
  {
   "cell_type": "code",
   "execution_count": 52,
   "id": "2b54efbd-7c43-4ab1-ab70-107906643360",
   "metadata": {},
   "outputs": [],
   "source": [
    "\n",
    "le=LabelEncoder()\n",
    "\n",
    "temp=le.fit_transform(Y_train)\n",
    "Y_train=temp.reshape(-1,1)\n",
    "\n",
    "temp=le.fit_transform(Y_test)\n",
    "Y_test=temp.reshape(-1,1)"
   ]
  },
  {
   "cell_type": "code",
   "execution_count": 53,
   "id": "42374f72-2a3a-42ed-a1f1-e7166b4334c3",
   "metadata": {},
   "outputs": [
    {
     "name": "stdout",
     "output_type": "stream",
     "text": [
      "(210, 100) (67, 100)\n",
      "(210, 1) (67, 1)\n"
     ]
    }
   ],
   "source": [
    "print(X_train.shape,X_test.shape)\n",
    "print(Y_train.shape,Y_test.shape)  "
   ]
  },
  {
   "cell_type": "code",
   "execution_count": 54,
   "id": "9b5c822e-9f9b-4c53-9a98-66c3befad45d",
   "metadata": {},
   "outputs": [],
   "source": [
    "model=tf.keras.Sequential()\n",
    "model.add(layers.Dense(input_shape=(100,), units= 200,activation='relu'))\n",
    "model.add(layers.Dense(200,activation='relu'))\n",
    "model.add(layers.Dense(200,activation='relu'))\n",
    "model.add(layers.Dense(1,activation='sigmoid'))"
   ]
  },
  {
   "cell_type": "code",
   "execution_count": 55,
   "id": "c67bb337-b442-417c-a5e2-55b47f420a31",
   "metadata": {},
   "outputs": [
    {
     "name": "stdout",
     "output_type": "stream",
     "text": [
      "Model: \"sequential\"\n",
      "_________________________________________________________________\n",
      "Layer (type)                 Output Shape              Param #   \n",
      "=================================================================\n",
      "dense (Dense)                (None, 200)               20200     \n",
      "_________________________________________________________________\n",
      "dense_1 (Dense)              (None, 200)               40200     \n",
      "_________________________________________________________________\n",
      "dense_2 (Dense)              (None, 200)               40200     \n",
      "_________________________________________________________________\n",
      "dense_3 (Dense)              (None, 1)                 201       \n",
      "=================================================================\n",
      "Total params: 100,801\n",
      "Trainable params: 100,801\n",
      "Non-trainable params: 0\n",
      "_________________________________________________________________\n"
     ]
    }
   ],
   "source": [
    "model.summary()"
   ]
  },
  {
   "cell_type": "code",
   "execution_count": 56,
   "id": "3c527b9b-4928-4fa8-99b6-3537410ecc45",
   "metadata": {},
   "outputs": [],
   "source": [
    "model.compile(optimizer='adam',loss='binary_crossentropy',metrics=['accuracy'])"
   ]
  },
  {
   "cell_type": "code",
   "execution_count": 57,
   "id": "f7dbcce4-f3fc-437e-96e0-b4fa04a72906",
   "metadata": {},
   "outputs": [
    {
     "name": "stdout",
     "output_type": "stream",
     "text": [
      "Epoch 1/100\n",
      "7/7 [==============================] - 2s 3ms/step - loss: 3.2872 - accuracy: 0.6238\n",
      "Epoch 2/100\n",
      "7/7 [==============================] - 0s 1ms/step - loss: 1.2555 - accuracy: 0.7333\n",
      "Epoch 3/100\n",
      "7/7 [==============================] - 0s 2ms/step - loss: 0.6821 - accuracy: 0.8190\n",
      "Epoch 4/100\n",
      "7/7 [==============================] - 0s 2ms/step - loss: 0.3734 - accuracy: 0.8619\n",
      "Epoch 5/100\n",
      "7/7 [==============================] - 0s 1ms/step - loss: 0.2429 - accuracy: 0.9048\n",
      "Epoch 6/100\n",
      "7/7 [==============================] - 0s 2ms/step - loss: 0.2177 - accuracy: 0.9095\n",
      "Epoch 7/100\n",
      "7/7 [==============================] - 0s 2ms/step - loss: 0.2014 - accuracy: 0.9286\n",
      "Epoch 8/100\n",
      "7/7 [==============================] - 0s 1ms/step - loss: 0.2124 - accuracy: 0.9238\n",
      "Epoch 9/100\n",
      "7/7 [==============================] - 0s 2ms/step - loss: 0.1459 - accuracy: 0.9429\n",
      "Epoch 10/100\n",
      "7/7 [==============================] - 0s 2ms/step - loss: 0.1626 - accuracy: 0.9095\n",
      "Epoch 11/100\n",
      "7/7 [==============================] - 0s 1ms/step - loss: 0.1609 - accuracy: 0.9476\n",
      "Epoch 12/100\n",
      "7/7 [==============================] - 0s 2ms/step - loss: 0.1103 - accuracy: 0.9571\n",
      "Epoch 13/100\n",
      "7/7 [==============================] - 0s 2ms/step - loss: 0.1271 - accuracy: 0.9571\n",
      "Epoch 14/100\n",
      "7/7 [==============================] - 0s 2ms/step - loss: 0.0993 - accuracy: 0.9667\n",
      "Epoch 15/100\n",
      "7/7 [==============================] - 0s 2ms/step - loss: 0.1089 - accuracy: 0.9667\n",
      "Epoch 16/100\n",
      "7/7 [==============================] - 0s 1ms/step - loss: 0.1686 - accuracy: 0.9381\n",
      "Epoch 17/100\n",
      "7/7 [==============================] - 0s 2ms/step - loss: 0.1147 - accuracy: 0.9667\n",
      "Epoch 18/100\n",
      "7/7 [==============================] - 0s 2ms/step - loss: 0.0609 - accuracy: 0.9857\n",
      "Epoch 19/100\n",
      "7/7 [==============================] - 0s 2ms/step - loss: 0.0721 - accuracy: 0.9714\n",
      "Epoch 20/100\n",
      "7/7 [==============================] - 0s 2ms/step - loss: 0.0490 - accuracy: 0.9905\n",
      "Epoch 21/100\n",
      "7/7 [==============================] - 0s 2ms/step - loss: 0.0693 - accuracy: 0.9714\n",
      "Epoch 22/100\n",
      "7/7 [==============================] - 0s 1ms/step - loss: 0.0857 - accuracy: 0.9571\n",
      "Epoch 23/100\n",
      "7/7 [==============================] - 0s 2ms/step - loss: 0.0460 - accuracy: 0.9857\n",
      "Epoch 24/100\n",
      "7/7 [==============================] - 0s 2ms/step - loss: 0.0513 - accuracy: 0.9857\n",
      "Epoch 25/100\n",
      "7/7 [==============================] - 0s 3ms/step - loss: 0.0417 - accuracy: 0.9905\n",
      "Epoch 26/100\n",
      "7/7 [==============================] - 0s 2ms/step - loss: 0.0327 - accuracy: 0.9952\n",
      "Epoch 27/100\n",
      "7/7 [==============================] - 0s 2ms/step - loss: 0.0290 - accuracy: 0.9905\n",
      "Epoch 28/100\n",
      "7/7 [==============================] - 0s 1ms/step - loss: 0.0431 - accuracy: 0.9905\n",
      "Epoch 29/100\n",
      "7/7 [==============================] - 0s 2ms/step - loss: 0.0602 - accuracy: 0.9810\n",
      "Epoch 30/100\n",
      "7/7 [==============================] - 0s 2ms/step - loss: 0.0240 - accuracy: 1.0000\n",
      "Epoch 31/100\n",
      "7/7 [==============================] - 0s 1ms/step - loss: 0.0332 - accuracy: 0.9905\n",
      "Epoch 32/100\n",
      "7/7 [==============================] - 0s 2ms/step - loss: 0.0497 - accuracy: 0.9905\n",
      "Epoch 33/100\n",
      "7/7 [==============================] - 0s 1ms/step - loss: 0.0572 - accuracy: 0.9810\n",
      "Epoch 34/100\n",
      "7/7 [==============================] - 0s 1ms/step - loss: 0.0306 - accuracy: 0.9857\n",
      "Epoch 35/100\n",
      "7/7 [==============================] - 0s 2ms/step - loss: 0.0202 - accuracy: 0.9952\n",
      "Epoch 36/100\n",
      "7/7 [==============================] - 0s 2ms/step - loss: 0.0207 - accuracy: 0.9952\n",
      "Epoch 37/100\n",
      "7/7 [==============================] - 0s 2ms/step - loss: 0.0274 - accuracy: 1.0000\n",
      "Epoch 38/100\n",
      "7/7 [==============================] - 0s 2ms/step - loss: 0.0498 - accuracy: 0.9857\n",
      "Epoch 39/100\n",
      "7/7 [==============================] - 0s 1ms/step - loss: 0.0354 - accuracy: 0.9857\n",
      "Epoch 40/100\n",
      "7/7 [==============================] - 0s 2ms/step - loss: 0.0250 - accuracy: 0.9952\n",
      "Epoch 41/100\n",
      "7/7 [==============================] - 0s 1ms/step - loss: 0.0130 - accuracy: 1.0000\n",
      "Epoch 42/100\n",
      "7/7 [==============================] - 0s 2ms/step - loss: 0.0088 - accuracy: 1.0000\n",
      "Epoch 43/100\n",
      "7/7 [==============================] - 0s 2ms/step - loss: 0.0078 - accuracy: 1.0000\n",
      "Epoch 44/100\n",
      "7/7 [==============================] - 0s 1ms/step - loss: 0.0100 - accuracy: 1.0000\n",
      "Epoch 45/100\n",
      "7/7 [==============================] - 0s 2ms/step - loss: 0.0164 - accuracy: 0.9952\n",
      "Epoch 46/100\n",
      "7/7 [==============================] - 0s 2ms/step - loss: 0.0132 - accuracy: 0.9952\n",
      "Epoch 47/100\n",
      "7/7 [==============================] - 0s 1ms/step - loss: 0.0066 - accuracy: 1.0000\n",
      "Epoch 48/100\n",
      "7/7 [==============================] - 0s 2ms/step - loss: 0.0077 - accuracy: 1.0000\n",
      "Epoch 49/100\n",
      "7/7 [==============================] - 0s 2ms/step - loss: 0.0050 - accuracy: 1.0000\n",
      "Epoch 50/100\n",
      "7/7 [==============================] - 0s 2ms/step - loss: 0.0043 - accuracy: 1.0000\n",
      "Epoch 51/100\n",
      "7/7 [==============================] - 0s 2ms/step - loss: 0.0045 - accuracy: 1.0000\n",
      "Epoch 52/100\n",
      "7/7 [==============================] - 0s 2ms/step - loss: 0.0039 - accuracy: 1.0000\n",
      "Epoch 53/100\n",
      "7/7 [==============================] - 0s 2ms/step - loss: 0.0041 - accuracy: 1.0000\n",
      "Epoch 54/100\n",
      "7/7 [==============================] - 0s 1ms/step - loss: 0.0032 - accuracy: 1.0000\n",
      "Epoch 55/100\n",
      "7/7 [==============================] - 0s 2ms/step - loss: 0.0034 - accuracy: 1.0000\n",
      "Epoch 56/100\n",
      "7/7 [==============================] - 0s 2ms/step - loss: 0.0031 - accuracy: 1.0000\n",
      "Epoch 57/100\n",
      "7/7 [==============================] - 0s 1ms/step - loss: 0.0031 - accuracy: 1.0000\n",
      "Epoch 58/100\n",
      "7/7 [==============================] - 0s 2ms/step - loss: 0.0034 - accuracy: 1.0000\n",
      "Epoch 59/100\n",
      "7/7 [==============================] - 0s 2ms/step - loss: 0.0030 - accuracy: 1.0000\n",
      "Epoch 60/100\n",
      "7/7 [==============================] - 0s 1ms/step - loss: 0.0026 - accuracy: 1.0000\n",
      "Epoch 61/100\n",
      "7/7 [==============================] - 0s 1ms/step - loss: 0.0025 - accuracy: 1.0000\n",
      "Epoch 62/100\n",
      "7/7 [==============================] - 0s 2ms/step - loss: 0.0023 - accuracy: 1.0000\n",
      "Epoch 63/100\n",
      "7/7 [==============================] - 0s 2ms/step - loss: 0.0022 - accuracy: 1.0000\n",
      "Epoch 64/100\n",
      "7/7 [==============================] - 0s 2ms/step - loss: 0.0021 - accuracy: 1.0000\n",
      "Epoch 65/100\n",
      "7/7 [==============================] - 0s 2ms/step - loss: 0.0021 - accuracy: 1.0000\n",
      "Epoch 66/100\n",
      "7/7 [==============================] - 0s 2ms/step - loss: 0.0020 - accuracy: 1.0000\n",
      "Epoch 67/100\n",
      "7/7 [==============================] - 0s 1ms/step - loss: 0.0019 - accuracy: 1.0000\n",
      "Epoch 68/100\n",
      "7/7 [==============================] - 0s 2ms/step - loss: 0.0018 - accuracy: 1.0000\n",
      "Epoch 69/100\n",
      "7/7 [==============================] - 0s 2ms/step - loss: 0.0018 - accuracy: 1.0000\n",
      "Epoch 70/100\n",
      "7/7 [==============================] - 0s 1ms/step - loss: 0.0018 - accuracy: 1.0000\n",
      "Epoch 71/100\n",
      "7/7 [==============================] - 0s 2ms/step - loss: 0.0018 - accuracy: 1.0000\n",
      "Epoch 72/100\n",
      "7/7 [==============================] - 0s 2ms/step - loss: 0.0017 - accuracy: 1.0000\n",
      "Epoch 73/100\n",
      "7/7 [==============================] - 0s 1ms/step - loss: 0.0016 - accuracy: 1.0000\n",
      "Epoch 74/100\n",
      "7/7 [==============================] - 0s 1ms/step - loss: 0.0015 - accuracy: 1.0000\n",
      "Epoch 75/100\n",
      "7/7 [==============================] - 0s 2ms/step - loss: 0.0015 - accuracy: 1.0000\n",
      "Epoch 76/100\n",
      "7/7 [==============================] - 0s 2ms/step - loss: 0.0014 - accuracy: 1.0000\n",
      "Epoch 77/100\n",
      "7/7 [==============================] - 0s 2ms/step - loss: 0.0015 - accuracy: 1.0000\n",
      "Epoch 78/100\n",
      "7/7 [==============================] - 0s 2ms/step - loss: 0.0014 - accuracy: 1.0000\n",
      "Epoch 79/100\n",
      "7/7 [==============================] - 0s 2ms/step - loss: 0.0013 - accuracy: 1.0000\n",
      "Epoch 80/100\n",
      "7/7 [==============================] - 0s 1ms/step - loss: 0.0013 - accuracy: 1.0000\n",
      "Epoch 81/100\n",
      "7/7 [==============================] - 0s 2ms/step - loss: 0.0013 - accuracy: 1.0000\n",
      "Epoch 82/100\n",
      "7/7 [==============================] - 0s 2ms/step - loss: 0.0012 - accuracy: 1.0000\n",
      "Epoch 83/100\n",
      "7/7 [==============================] - 0s 2ms/step - loss: 0.0012 - accuracy: 1.0000\n",
      "Epoch 84/100\n",
      "7/7 [==============================] - 0s 2ms/step - loss: 0.0011 - accuracy: 1.0000\n",
      "Epoch 85/100\n",
      "7/7 [==============================] - 0s 1ms/step - loss: 0.0011 - accuracy: 1.0000\n",
      "Epoch 86/100\n",
      "7/7 [==============================] - 0s 1ms/step - loss: 0.0011 - accuracy: 1.0000\n",
      "Epoch 87/100\n",
      "7/7 [==============================] - 0s 2ms/step - loss: 0.0011 - accuracy: 1.0000\n",
      "Epoch 88/100\n",
      "7/7 [==============================] - 0s 1ms/step - loss: 0.0010 - accuracy: 1.0000\n",
      "Epoch 89/100\n",
      "7/7 [==============================] - 0s 2ms/step - loss: 0.0010 - accuracy: 1.0000\n",
      "Epoch 90/100\n",
      "7/7 [==============================] - 0s 2ms/step - loss: 9.6048e-04 - accuracy: 1.0000\n",
      "Epoch 91/100\n",
      "7/7 [==============================] - 0s 1ms/step - loss: 9.5904e-04 - accuracy: 1.0000\n",
      "Epoch 92/100\n",
      "7/7 [==============================] - 0s 2ms/step - loss: 9.3383e-04 - accuracy: 1.0000\n",
      "Epoch 93/100\n",
      "7/7 [==============================] - 0s 2ms/step - loss: 9.0153e-04 - accuracy: 1.0000\n",
      "Epoch 94/100\n",
      "7/7 [==============================] - 0s 2ms/step - loss: 8.8113e-04 - accuracy: 1.0000\n",
      "Epoch 95/100\n",
      "7/7 [==============================] - 0s 2ms/step - loss: 8.6580e-04 - accuracy: 1.0000\n",
      "Epoch 96/100\n",
      "7/7 [==============================] - 0s 2ms/step - loss: 8.3671e-04 - accuracy: 1.0000\n",
      "Epoch 97/100\n",
      "7/7 [==============================] - 0s 2ms/step - loss: 8.3047e-04 - accuracy: 1.0000\n",
      "Epoch 98/100\n",
      "7/7 [==============================] - 0s 2ms/step - loss: 8.0080e-04 - accuracy: 1.0000\n",
      "Epoch 99/100\n",
      "7/7 [==============================] - 0s 1ms/step - loss: 7.7909e-04 - accuracy: 1.0000\n",
      "Epoch 100/100\n",
      "7/7 [==============================] - 0s 2ms/step - loss: 7.6120e-04 - accuracy: 1.0000\n"
     ]
    }
   ],
   "source": [
    "hist=model.fit(X_train,Y_train,epochs=100)\n"
   ]
  },
  {
   "cell_type": "code",
   "execution_count": 58,
   "id": "bb10fcf8-920c-481a-81c4-c0b62522350c",
   "metadata": {},
   "outputs": [
    {
     "data": {
      "image/png": "[encoded data removed]",
      "text/plain": [
       "<Figure size 640x480 with 1 Axes>"
      ]
     },
     "metadata": {},
     "output_type": "display_data"
    }
   ],
   "source": [
    "plt.title('Train Loss values over 100 epochs:')\n",
    "plt.plot(hist.history['loss'],color='red',linewidth=2)\n",
    "plt.show()"
   ]
  },
  {
   "cell_type": "code",
   "execution_count": 59,
   "id": "6c2db20d-deb9-4252-9d6f-dc39f242bf3f",
   "metadata": {},
   "outputs": [
    {
     "data": {
      "image/png": "[encoded data removed]",
      "text/plain": [
       "<Figure size 640x480 with 1 Axes>"
      ]
     },
     "metadata": {},
     "output_type": "display_data"
    }
   ],
   "source": [
    "plt.title('Train accuracy values over 100 epochs:')\n",
    "plt.plot(hist.history['accuracy'],color='purple')\n",
    "plt.show()"
   ]
  },
  {
   "cell_type": "code",
   "execution_count": 60,
   "id": "b98d6879-58e1-4e9a-9ba4-ef9d76e4fec1",
   "metadata": {},
   "outputs": [],
   "source": [
    "Y_pred=model.predict(X_test)\n",
    "Y_pred=(Y_pred>0.5)*1"
   ]
  },
  {
   "cell_type": "code",
   "execution_count": 61,
   "id": "4afca3fe-3e68-45bf-96ca-e23f64666d1c",
   "metadata": {},
   "outputs": [
    {
     "data": {
      "image/png": "[encoded data removed]",
      "text/plain": [
       "<Figure size 800x640 with 2 Axes>"
      ]
     },
     "metadata": {},
     "output_type": "display_data"
    }
   ],
   "source": [
    "plt.figure(figsize=(10,8),dpi=80)\n",
    "sns.heatmap(confusion_matrix(Y_test,Y_pred),annot=True,cmap='Blues')\n",
    "plt.title('1 signifies dog sounds and 0 signifies cat sounds \\n'+'Accuracy:'+str(accuracy_score(Y_test,Y_pred)))\n",
    "plt.show()"
   ]
  },
  {
   "cell_type": "code",
   "execution_count": null,
   "id": "8a3a4336-ffc8-4013-a856-e78cca209a65",
   "metadata": {},
   "outputs": [],
   "source": []
  }
 ],
 "metadata": {
  "kernelspec": {
   "display_name": "Python 3.8.8 64-bit ('base': conda)",
   "language": "python",
   "name": "python388jvsc74a57bd0d2fc24a3768354b1c4f177f8460c8ccbc47fb51737954a3d73f80bf3a5588252"
  },
  "language_info": {
   "codemirror_mode": {
    "name": "ipython",
    "version": 3
   },
   "file_extension": ".py",
   "mimetype": "text/x-python",
   "name": "python",
   "nbconvert_exporter": "python",
   "pygments_lexer": "ipython3",
   "version": "3.8.8"
  }
 },
 "nbformat": 4,
 "nbformat_minor": 5
}
